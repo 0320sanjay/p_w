{
 "cells": [
  {
   "cell_type": "code",
   "execution_count": 20,
   "id": "7f8070c0-fd11-44d9-9105-7f5ad49c205e",
   "metadata": {},
   "outputs": [
    {
     "data": {
      "text/plain": [
       "('Car', 200, 15)"
      ]
     },
     "execution_count": 20,
     "metadata": {},
     "output_type": "execute_result"
    }
   ],
   "source": [
    "class Vehicle:\n",
    "    def __init__(self, name_of_vehicle, max_speed, average_of_vehicle):\n",
    "        self.name_of_vehicle = name_of_vehicle\n",
    "        self.max_speed = max_speed\n",
    "        self.average_of_vehicle = average_of_vehicle\n",
    "\n",
    "    def details(self):\n",
    "        return self.name_of_vehicle, self.max_speed, self.average_of_vehicle\n",
    "\n",
    "# Example usage\n",
    "vehicle1 = Vehicle(\"Car\", 200, 15)\n",
    "vehicle1.details()\n",
    "\n",
    "\n",
    "\n",
    "\n",
    "\n",
    "        "
   ]
  },
  {
   "cell_type": "code",
   "execution_count": 10,
   "id": "1ea69be5-a684-473c-8b38-d74b2eccd8bb",
   "metadata": {},
   "outputs": [
    {
     "data": {
      "text/plain": [
       "'honda has a seating capacity of 5.'"
      ]
     },
     "execution_count": 10,
     "metadata": {},
     "output_type": "execute_result"
    }
   ],
   "source": [
    "class Vehicle:\n",
    "    def __init__(self, name_of_vehicle, max_speed, average_of_vehicle):\n",
    "        self.name_of_vehicle = name_of_vehicle\n",
    "        self.max_speed = max_speed\n",
    "        self.average_of_vehicle = average_of_vehicle\n",
    "        \n",
    "        def details(self):\n",
    "            return self.name_of_vehicle, self.max_speed , self.average_of_vehicle\n",
    "\n",
    "class car(Vehicle):\n",
    "    def seating_capacity(self,capacity):\n",
    "        return f\"{self.name_of_vehicle} has a seating capacity of {capacity}.\"\n",
    "    \n",
    "c1=car(\"honda\",200,20)\n",
    "c1.seating_capacity(5)\n",
    "       "
   ]
  },
  {
   "cell_type": "code",
   "execution_count": null,
   "id": "91deca1e-487d-4502-bef2-62adeead9f99",
   "metadata": {},
   "outputs": [],
   "source": []
  }
 ],
 "metadata": {
  "kernelspec": {
   "display_name": "Python 3 (ipykernel)",
   "language": "python",
   "name": "python3"
  },
  "language_info": {
   "codemirror_mode": {
    "name": "ipython",
    "version": 3
   },
   "file_extension": ".py",
   "mimetype": "text/x-python",
   "name": "python",
   "nbconvert_exporter": "python",
   "pygments_lexer": "ipython3",
   "version": "3.10.8"
  }
 },
 "nbformat": 4,
 "nbformat_minor": 5
}
